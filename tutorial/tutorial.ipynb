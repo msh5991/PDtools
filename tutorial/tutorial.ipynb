{
 "cells": [
  {
   "cell_type": "markdown",
   "id": "72bdc94f",
   "metadata": {},
   "source": [
    "# A simple tutorial for PDtools\n",
    "Here, as an example, we will draw a phase diagram of the Ca-O system from the output files of the vc-relax calculation performed by Quantum Espresso.\n",
    "The output files are contained in the \"Quantum Espresso output files\" folder."
   ]
  },
  {
   "cell_type": "markdown",
   "id": "ae8abb9c",
   "metadata": {},
   "source": [
    "## Building a phase diagram"
   ]
  },
  {
   "cell_type": "code",
   "execution_count": 1,
   "id": "14044cd3",
   "metadata": {},
   "outputs": [],
   "source": [
    "import glob\n",
    "import plotly.graph_objs as go\n",
    "from pymatgen.core.composition import Composition\n",
    "from PDtools import IgorPDPlotter, PWout2PD"
   ]
  },
  {
   "cell_type": "markdown",
   "id": "0b1f0ad9",
   "metadata": {},
   "source": [
    "Specify the output files, target pressure,  and terminal compositions for the phase diagram."
   ]
  },
  {
   "cell_type": "code",
   "execution_count": 2,
   "id": "efa948e8",
   "metadata": {},
   "outputs": [],
   "source": [
    "# output files of vc-relax calclation\n",
    "outfiles = glob.glob('./Quantum Espresso output files/0GPa/*.out')\n",
    "\n",
    "# target pressure [Kbar]\n",
    "target_pressure = 0.0\n",
    "\n",
    "# terminal compositions\n",
    "terminal_compositions = [Composition('Ca'), Composition('O')]"
   ]
  },
  {
   "cell_type": "markdown",
   "id": "ce534090",
   "metadata": {},
   "source": [
    "Make a phase diagram by PDtools. (The pymatgen.analysis.phase_diagram module is used internally.)"
   ]
  },
  {
   "cell_type": "code",
   "execution_count": 3,
   "id": "a6f4e828",
   "metadata": {},
   "outputs": [
    {
     "name": "stdout",
     "output_type": "stream",
     "text": [
      "reading ./Quantum Espresso output files/0GPa/Ca_presss=0.0.relax.out ...\n",
      "    composition = Ca1 \n",
      "    Energy      = -1016.7471137676981 eV\n",
      "    Enthalpy    = -1016.7471137676981 eV\n",
      "reading ./Quantum Espresso output files/0GPa/CaO2_press=0.0.relax.out ...\n",
      "    composition = Ca1 O2 \n",
      "    Energy      = -1891.331316066426 eV\n",
      "    Enthalpy    = -1891.331316066426 eV\n",
      "reading ./Quantum Espresso output files/0GPa/CaO_press=0.0.relax.out ...\n",
      "    composition = Ca1 O1 \n",
      "    Energy      = -1457.1368984459154 eV\n",
      "    Enthalpy    = -1457.1368984459154 eV\n",
      "reading ./Quantum Espresso output files/0GPa/O2_press=0.0.relax.out ...\n",
      "    composition = O4 \n",
      "    Energy      = -1737.2459124517247 eV\n",
      "    Enthalpy    = -1737.2459124517247 eV\n"
     ]
    }
   ],
   "source": [
    "# make a phase diagram by PDtools module\n",
    "pd = PWout2PD(outfiles, target_pressure, terminal_compositions)\n",
    "plotter = IgorPDPlotter(pd, show_unstable=1)"
   ]
  },
  {
   "cell_type": "markdown",
   "id": "610ed90b",
   "metadata": {},
   "source": [
    "## Drawing a phase diagram\n",
    "Then, draw the phase diagram at P = 0 GPa.\n",
    "\n",
    "Pymatgen provides a method to draw a phase diagram with plotly."
   ]
  },
  {
   "cell_type": "code",
   "execution_count": 4,
   "id": "22bda9a5",
   "metadata": {},
   "outputs": [],
   "source": [
    "# draw a phase diagram with plotly\n",
    "PD_plotly = 'PD_0GPa.html'\n",
    "plotter.get_plot().write_html(PD_plotly)"
   ]
  },
  {
   "cell_type": "markdown",
   "id": "ea40a11e",
   "metadata": {},
   "source": [
    "By opening the generated \"PD_0GPa.html\" with your browser, you can see the phase diagram.\n",
    "\n",
    "However, customizing the appearance of this figure is a bit troublesome.\n",
    "(You need to modify the plotly's commands written in the pymatgen module.)\n",
    "\n",
    "\n",
    "Instead, you can use PDtools to draw the phase diagram with Igor Pro."
   ]
  },
  {
   "cell_type": "code",
   "execution_count": 5,
   "id": "aaa7d39e",
   "metadata": {},
   "outputs": [],
   "source": [
    "# draw a phase diagram with Igor Pro\n",
    "PD_igor = 'PD_0GPa.itx'\n",
    "prefix = 'PD' # prefix of wavename\n",
    "plotter.igorplot_2Dpd(pd,PD_igor,prefix)"
   ]
  },
  {
   "cell_type": "markdown",
   "id": "67a730ea",
   "metadata": {},
   "source": [
    "You can open the generated \"PD_0GPa.itx\" with Igor Pro to see the phase diagram, and modify its appearance as you like."
   ]
  },
  {
   "cell_type": "markdown",
   "id": "9ec80556",
   "metadata": {},
   "source": [
    "<img src=images/PD_0GPa.png width=400>"
   ]
  },
  {
   "cell_type": "markdown",
   "id": "fa434b0d",
   "metadata": {},
   "source": [
    "## Plotting formation enthalpy and enthalpy above convex hull\n",
    "You can calculate the formation enthalpy and the enthalpy above convex hull by pymatgen. \n",
    "\n",
    "PDtools can be used to export them in a format that can be opened with Igor Pro."
   ]
  },
  {
   "cell_type": "code",
   "execution_count": 6,
   "id": "3e677396",
   "metadata": {},
   "outputs": [
    {
     "name": "stdout",
     "output_type": "stream",
     "text": [
      "Formation enthalpy (eV):\n",
      "    O4 : 0.0\n",
      "    Ca1 : 0.0\n",
      "    Ca1 O1 : -3.039153282643041\n",
      "    Ca1 O2 : -1.9870820242886111\n",
      "Enthalpy above convex hull (eV):\n",
      "    O4 : 0\n",
      "    Ca1 : 0\n",
      "    Ca1 O1 : 0\n",
      "    Ca1 O2 : 0.03902016413996989\n"
     ]
    }
   ],
   "source": [
    "# write enthalpy to .itx file\n",
    "enthalpy_plot = 'Enthalpy.itx'\n",
    "plotter.igorplot_enthalpy(pd, target_pressure,enthalpy_plot)"
   ]
  },
  {
   "cell_type": "markdown",
   "id": "ca3a4803",
   "metadata": {},
   "source": [
    "By opening the generated \"Enthalpy.itx\" with Igor Pro, you can see the plots of\n",
    "- formation enthalpy vs pressure\n",
    "- enthalpy above convex hull vs pressure\n",
    "\n",
    "Since we have processed the results for only P = 0 GPa, only one point is plotted."
   ]
  },
  {
   "cell_type": "markdown",
   "id": "14ed92f1",
   "metadata": {},
   "source": [
    "We can process the data for P = 8, 15, and 30 GPa to complete the plots."
   ]
  },
  {
   "cell_type": "code",
   "execution_count": 7,
   "id": "dd1d01c7",
   "metadata": {},
   "outputs": [
    {
     "name": "stdout",
     "output_type": "stream",
     "text": [
      "reading ./Quantum Espresso output files/8GPa/Ca_press=80.0.relax.out ...\n",
      "    composition = Ca1 \n",
      "    Energy      = -1016.5314404020203 eV\n",
      "    Enthalpy    = -1014.9604877595154 eV\n",
      "reading ./Quantum Espresso output files/8GPa/CaO2_press=80.0.relax.out ...\n",
      "    composition = Ca1 O2 \n",
      "    Energy      = -1891.2232586992445 eV\n",
      "    Enthalpy    = -1889.5256108913516 eV\n",
      "reading ./Quantum Espresso output files/8GPa/CaO_press=80.0.relax.out ...\n",
      "    composition = Ca1 O1 \n",
      "    Energy      = -1457.0846022432586 eV\n",
      "    Enthalpy    = -1455.772241855715 eV\n",
      "reading ./Quantum Espresso output files/8GPa/O2alpha_press=80.0.relax.out ...\n",
      "    composition = O4 \n",
      "    Energy      = -1737.0328183172921 eV\n",
      "    Enthalpy    = -1735.1906640714449 eV\n",
      "Formation enthalpy (eV):\n",
      "    O4 : 0.0\n",
      "    Ca1 : 0.0\n",
      "    Ca1 O1 : -3.507044039169158\n",
      "    Ca1 O2 : -2.323263698704674\n",
      "Enthalpy above convex hull (eV):\n",
      "    O4 : 0\n",
      "    Ca1 : 0\n",
      "    Ca1 O1 : 0\n",
      "    Ca1 O2 : 0.014765660741318243\n"
     ]
    }
   ],
   "source": [
    "# output files of vc-relax calclation\n",
    "outfiles = glob.glob('./Quantum Espresso output files/8GPa/*.out')\n",
    "# target pressure [Kbar]\n",
    "target_pressure = 80.0\n",
    "\n",
    "# make phase diagram by PDtools module\n",
    "pd = PWout2PD(outfiles, target_pressure, terminal_compositions)\n",
    "plotter = IgorPDPlotter(pd, show_unstable=1)\n",
    "\n",
    "# plot convex hull with Igor Pro\n",
    "PD_igor = 'PD_8GPa.itx'\n",
    "prefix = 'PD'\n",
    "plotter.igorplot_2Dpd(pd,PD_igor,prefix)\n",
    "\n",
    "# write enthalpy to .itx file\n",
    "plotter.igorplot_enthalpy(pd, target_pressure, enthalpy_plot)"
   ]
  },
  {
   "cell_type": "code",
   "execution_count": 8,
   "id": "e9041cf2",
   "metadata": {},
   "outputs": [
    {
     "name": "stdout",
     "output_type": "stream",
     "text": [
      "reading ./Quantum Espresso output files/15GPa/Ca_press=150.0.relax.out ...\n",
      "    composition = Ca1 \n",
      "    Energy      = -1016.2351909923586 eV\n",
      "    Enthalpy    = -1013.6845953899604 eV\n",
      "reading ./Quantum Espresso output files/15GPa/CaO2_press=150.0.relax.out ...\n",
      "    composition = Ca1 O2 \n",
      "    Energy      = -1891.0738129496401 eV\n",
      "    Enthalpy    = -1888.0638540621335 eV\n",
      "reading ./Quantum Espresso output files/15GPa/CaO_press=150.0.relax.out ...\n",
      "    composition = Ca1 O1 \n",
      "    Energy      = -1456.9997224464262 eV\n",
      "    Enthalpy    = -1454.6439162605475 eV\n",
      "reading ./Quantum Espresso output files/15GPa/O2alpha_press=150.0.relax.out ...\n",
      "    composition = O4 \n",
      "    Energy      = -1736.8024720279227 eV\n",
      "    Enthalpy    = -1733.6228660869904 eV\n",
      "Formation enthalpy (eV):\n",
      "    O4 : 0.0\n",
      "    Ca1 : 0.0\n",
      "    Ca1 O1 : -3.7768021744197986\n",
      "    Ca1 O2 : -2.522608542892764\n",
      "Enthalpy above convex hull (eV):\n",
      "    O4 : 0\n",
      "    Ca1 : 0\n",
      "    Ca1 O1 : 0\n",
      "    Ca1 O2 : 0\n"
     ]
    }
   ],
   "source": [
    "# output files of vc-relax calclation\n",
    "outfiles = glob.glob('./Quantum Espresso output files/15GPa/*.out')\n",
    "# target pressure [Kbar]\n",
    "target_pressure = 150.0\n",
    "\n",
    "# make phase diagram by PDtools module\n",
    "pd = PWout2PD(outfiles, target_pressure, terminal_compositions)\n",
    "plotter = IgorPDPlotter(pd, show_unstable=1)\n",
    "\n",
    "# plot convex hull with Igor Pro\n",
    "PD_igor = 'PD_15GPa.itx'\n",
    "prefix = 'PD'\n",
    "plotter.igorplot_2Dpd(pd,PD_igor,prefix)\n",
    "\n",
    "# write enthalpy to .itx file\n",
    "plotter.igorplot_enthalpy(pd, target_pressure, enthalpy_plot)"
   ]
  },
  {
   "cell_type": "code",
   "execution_count": 9,
   "id": "fb6528d7",
   "metadata": {},
   "outputs": [
    {
     "name": "stdout",
     "output_type": "stream",
     "text": [
      "reading ./Quantum Espresso output files/30GPa/Ca_press=300.0.relax.out ...\n",
      "    composition = Ca1 \n",
      "    Energy      = -1015.5107089223833 eV\n",
      "    Enthalpy    = -1011.4066195543857 eV\n",
      "reading ./Quantum Espresso output files/30GPa/CaO2_press=300.0.relax.out ...\n",
      "    composition = Ca1 O2 \n",
      "    Energy      = -1890.6908306477426 eV\n",
      "    Enthalpy    = -1885.1546629861334 eV\n",
      "reading ./Quantum Espresso output files/30GPa/CaO_press=300.0.relax.out ...\n",
      "    composition = Ca1 O1 \n",
      "    Energy      = -1456.7365737833356 eV\n",
      "    Enthalpy    = -1452.3711255486062 eV\n",
      "reading ./Quantum Espresso output files/30GPa/O2alpha_press=300.0.relax.out ...\n",
      "    composition = O4 \n",
      "    Energy      = -1736.2844548544626 eV\n",
      "    Enthalpy    = -1730.586709475771 eV\n",
      "Formation enthalpy (eV):\n",
      "    O4 : 0.0\n",
      "    Ca1 : 0.0\n",
      "    Ca1 O1 : -4.158914312638898\n",
      "    Ca1 O2 : -2.8182295646208786\n",
      "Enthalpy above convex hull (eV):\n",
      "    O4 : 0\n",
      "    Ca1 : 0\n",
      "    Ca1 O1 : 0\n",
      "    Ca1 O2 : 0\n"
     ]
    }
   ],
   "source": [
    "# output files of vc-relax calclation\n",
    "outfiles = glob.glob('./Quantum Espresso output files/30GPa/*.out')\n",
    "# target pressure [Kbar]\n",
    "target_pressure = 300.0\n",
    "\n",
    "# make phase diagram by PDtools module\n",
    "pd = PWout2PD(outfiles, target_pressure, terminal_compositions)\n",
    "plotter = IgorPDPlotter(pd, show_unstable=1)\n",
    "\n",
    "# plot convex hull with Igor Pro\n",
    "PD_igor = 'PD_30GPa.itx'\n",
    "prefix = 'PD'\n",
    "plotter.igorplot_2Dpd(pd,PD_igor,prefix)\n",
    "\n",
    "# write enthalpy to .itx file\n",
    "plotter.igorplot_enthalpy(pd, target_pressure, enthalpy_plot)"
   ]
  },
  {
   "cell_type": "markdown",
   "id": "3d69cb3b",
   "metadata": {},
   "source": [
    "The generated graphs are as follows. (The appearance of the graph are modified for clarity.)\n",
    "<img src=\"https://raw.githubusercontent.com/msh5991/PDtools/71d8a229a157edaeb3a01b3af6ac07b3ddaaec3e/tutorial/images/Enthalpy.png\" width=\"600\">"
   ]
  },
  {
   "cell_type": "markdown",
   "id": "ba984998",
   "metadata": {},
   "source": [
    "The generated phase diagrams for each pressure are as follows.\n",
    "<img src=\"images/PD.png\" width=\"600\">"
   ]
  }
 ],
 "metadata": {
  "kernelspec": {
   "display_name": "Python 3",
   "language": "python",
   "name": "python3"
  },
  "language_info": {
   "codemirror_mode": {
    "name": "ipython",
    "version": 3
   },
   "file_extension": ".py",
   "mimetype": "text/x-python",
   "name": "python",
   "nbconvert_exporter": "python",
   "pygments_lexer": "ipython3",
   "version": "3.8.3"
  }
 },
 "nbformat": 4,
 "nbformat_minor": 5
}
